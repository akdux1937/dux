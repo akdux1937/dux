{
 "cells": [
  {
   "cell_type": "markdown",
   "metadata": {},
   "source": [
    "# \"IRONMAN 2020 AWA!\"\n",
    "> \"I got my IRONMAN 2020 All World Athlete!\"\n",
    "\n",
    "- toc: false\n",
    "- branch: master\n",
    "- badges: false\n",
    "- comments: true\n",
    "- categories: [running]\n",
    "<!-- - image: images/some_folder/your_image.png -->\n",
    "- hide: false\n",
    "- search_exclude: false\n",
    "- metadata_key1: metadata_value1\n",
    "- metadata_key2: metadata_value2"
   ]
  },
  {
   "cell_type": "markdown",
   "metadata": {},
   "source": [
    "I got an overall global position of 297 and a United States position of 77. All ranking stats can be viewed at [IRONMAN All World Athlete](https://www.ironman.com/all-world-athlete-agr)."
   ]
  },
  {
   "cell_type": "markdown",
   "metadata": {},
   "source": [
    "![]({{ site.baseurl }}/images/"Ironman AWA.png" \"Ironman AWA Certificate\")"
   ]
  }
 ],
 "metadata": {
  "kernelspec": {
   "display_name": "Python 3",
   "language": "python",
   "name": "python3"
  },
  "language_info": {
   "codemirror_mode": {
    "name": "ipython",
    "version": 3
   },
   "file_extension": ".py",
   "mimetype": "text/x-python",
   "name": "python",
   "nbconvert_exporter": "python",
   "pygments_lexer": "ipython3",
   "version": "3.8.5"
  }
 },
 "nbformat": 4,
 "nbformat_minor": 4
}
